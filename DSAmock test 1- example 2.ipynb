{
 "cells": [
  {
   "cell_type": "markdown",
   "id": "4b0a4afc-1d02-4387-9b52-638a7625f67f",
   "metadata": {},
   "source": [
    "#### First Unique Character in a String Given a string s, find the first non-repeating character in it and return its index. If it does not exist, return -1.\n",
    "\n",
    "* Example 1:\n",
    "Input: s = \"leetcode\"\n",
    "Output: 0\n"
   ]
  },
  {
   "cell_type": "code",
   "execution_count": 1,
   "id": "2e6a59f6-d580-4e6c-8cb7-9c3c298b34a4",
   "metadata": {},
   "outputs": [],
   "source": [
    "def firstUniqChar(s):\n",
    "    char_count = {}\n",
    "    for char in s:\n",
    "        char_count[char] = char_count.get(char, 0) + 1\n",
    "\n",
    "    for i, char in enumerate(s):\n",
    "        if char_count[char] == 1:\n",
    "            return i\n",
    "\n",
    "    return -1\n"
   ]
  },
  {
   "cell_type": "code",
   "execution_count": 2,
   "id": "e219f050-25dc-4aba-8880-6854e7d963b7",
   "metadata": {},
   "outputs": [
    {
     "name": "stdout",
     "output_type": "stream",
     "text": [
      "0\n"
     ]
    }
   ],
   "source": [
    "s = \"leetcode\"\n",
    "result = firstUniqChar(s)\n",
    "print(result)\n"
   ]
  },
  {
   "cell_type": "markdown",
   "id": "31ba96b1-3f59-48de-80e7-79ee09e8d5b8",
   "metadata": {},
   "source": [
    "***\n",
    "### First Unique Character in a String\n",
    "\n",
    "Given a string s, find the first non-repeating character in it and return its index. If it does not exist, return -1.\n",
    "\n",
    "* Example 2:\n",
    "Input: s = \"loveleetcode\"\n",
    "Output: 2\n"
   ]
  },
  {
   "cell_type": "code",
   "execution_count": 3,
   "id": "2a2f83e6-35ed-4ed6-b530-eaf0a5837299",
   "metadata": {},
   "outputs": [],
   "source": [
    "def firstUniqChar(s):\n",
    "    char_count = {}\n",
    "\n",
    "    for char in s:\n",
    "        char_count[char] = char_count.get(char, 0) + 1\n",
    "\n",
    "    for i, char in enumerate(s):\n",
    "        if char_count[char] == 1:\n",
    "            return i\n",
    "\n",
    "    return -1\n"
   ]
  },
  {
   "cell_type": "code",
   "execution_count": 4,
   "id": "ce1b14bd-6a1a-4953-ab4b-8601d02e765a",
   "metadata": {},
   "outputs": [
    {
     "name": "stdout",
     "output_type": "stream",
     "text": [
      "2\n"
     ]
    }
   ],
   "source": [
    "s = \"loveleetcode\"\n",
    "result = firstUniqChar(s)\n",
    "print(result)\n"
   ]
  },
  {
   "cell_type": "markdown",
   "id": "0ee10961-2fcd-414d-be61-7583377cb7dc",
   "metadata": {},
   "source": [
    "***\n",
    "#### First Unique Character in a String\n",
    "\n",
    "Given a string s, find the first non-repeating character in it and return its index. If it does not exist, return -1.\n",
    "\n",
    "* Example 3:\n",
    "Input: s = \"aabb\"\n",
    "Output: -1\n"
   ]
  },
  {
   "cell_type": "code",
   "execution_count": 5,
   "id": "09cee2a6-6d7a-4e88-bafa-d17053bc56a6",
   "metadata": {},
   "outputs": [],
   "source": [
    "def firstUniqChar(s):\n",
    "    char_count = {}\n",
    "    \n",
    "    for char in s:\n",
    "        char_count[char] = char_count.get(char, 0) + 1\n",
    "\n",
    "    for i, char in enumerate(s):\n",
    "        if char_count[char] == 1:\n",
    "            return i\n",
    "\n",
    "    return -1\n"
   ]
  },
  {
   "cell_type": "code",
   "execution_count": 6,
   "id": "fbd57e8a-d0df-46f9-aa9c-d699434d1b1e",
   "metadata": {},
   "outputs": [
    {
     "name": "stdout",
     "output_type": "stream",
     "text": [
      "-1\n"
     ]
    }
   ],
   "source": [
    "s = \"aabb\"\n",
    "result = firstUniqChar(s)\n",
    "print(result)\n"
   ]
  },
  {
   "cell_type": "code",
   "execution_count": null,
   "id": "8d17c783-cbb4-4d3c-95e5-04d90f7adf2d",
   "metadata": {},
   "outputs": [],
   "source": []
  },
  {
   "cell_type": "code",
   "execution_count": null,
   "id": "de68ff51-844f-44cc-96f6-08904886af4c",
   "metadata": {},
   "outputs": [],
   "source": []
  }
 ],
 "metadata": {
  "kernelspec": {
   "display_name": "Python 3 (ipykernel)",
   "language": "python",
   "name": "python3"
  },
  "language_info": {
   "codemirror_mode": {
    "name": "ipython",
    "version": 3
   },
   "file_extension": ".py",
   "mimetype": "text/x-python",
   "name": "python",
   "nbconvert_exporter": "python",
   "pygments_lexer": "ipython3",
   "version": "3.10.8"
  }
 },
 "nbformat": 4,
 "nbformat_minor": 5
}
